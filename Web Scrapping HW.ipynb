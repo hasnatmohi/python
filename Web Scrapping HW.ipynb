{
 "cells": [
  {
   "cell_type": "code",
   "execution_count": 1,
   "metadata": {},
   "outputs": [],
   "source": [
    "import requests\n",
    "from bs4 import BeautifulSoup"
   ]
  },
  {
   "cell_type": "code",
   "execution_count": 2,
   "metadata": {},
   "outputs": [
    {
     "data": {
      "text/plain": [
       "True"
      ]
     },
     "execution_count": 2,
     "metadata": {},
     "output_type": "execute_result"
    }
   ],
   "source": [
    "response= requests.get(\"https://quotes.toscrape.com/\")\n",
    "response.status_code\n",
    "response.ok"
   ]
  },
  {
   "cell_type": "code",
   "execution_count": 3,
   "metadata": {},
   "outputs": [],
   "source": [
    "soup= BeautifulSoup(response.content, 'lxml')"
   ]
  },
  {
   "cell_type": "code",
   "execution_count": 4,
   "metadata": {},
   "outputs": [],
   "source": [
    "def extractPage(soup)-> list:\n",
    "    data = []\n",
    "    quotes = soup.findAll('div', attrs={'class':\"quote\"})\n",
    "    for quote in quotes:\n",
    "        q = quote.span.string\n",
    "        author = quote.find('small', attrs={'class':'author'}).string\n",
    "        tags = soup.findAll('div', attrs={'class':\"quote\"})[-1].findAll('a', class_='tag')\n",
    "        tags= \"#\".join([tag.string for tag in tags])\n",
    "        data.append([q, author, tags])\n",
    "    return data"
   ]
  },
  {
   "cell_type": "code",
   "execution_count": 11,
   "metadata": {},
   "outputs": [
    {
     "data": {
      "text/plain": [
       "'love'"
      ]
     },
     "execution_count": 11,
     "metadata": {},
     "output_type": "execute_result"
    }
   ],
   "source": [
    "tagss = ['love','inspirational','life', 'humor', 'books' , 'reading', 'friendship', 'friends','truth','smile']\n",
    "tagss[0]"
   ]
  },
  {
   "cell_type": "code",
   "execution_count": 16,
   "metadata": {},
   "outputs": [
    {
     "name": "stdout",
     "output_type": "stream",
     "text": [
      "love\n",
      "inspirational\n",
      "life\n",
      "humor\n",
      "books\n",
      "reading\n",
      "friendship\n",
      "friends\n",
      "truth\n"
     ]
    }
   ],
   "source": [
    "i=0;\n",
    "for i in range(0,9):\n",
    "    print(tagss[i])\n",
    "    "
   ]
  },
  {
   "cell_type": "code",
   "execution_count": 18,
   "metadata": {},
   "outputs": [
    {
     "name": "stdout",
     "output_type": "stream",
     "text": [
      "Extracting from https://quotes.toscrape.com/tag/love/\n",
      "Extracting from https://quotes.toscrape.com/tag/inspirational/\n",
      "Extracting from https://quotes.toscrape.com/tag/life/\n",
      "Extracting from https://quotes.toscrape.com/tag/humor/\n",
      "Extracting from https://quotes.toscrape.com/tag/books/\n",
      "Extracting from https://quotes.toscrape.com/tag/reading/\n",
      "Extracting from https://quotes.toscrape.com/tag/friendship/\n",
      "Extracting from https://quotes.toscrape.com/tag/friends/\n",
      "Extracting from https://quotes.toscrape.com/tag/truth/\n",
      "Extracting from https://quotes.toscrape.com/tag/smile/\n",
      "No more Quotes\n"
     ]
    }
   ],
   "source": [
    "url= f'https://quotes.toscrape.com/tag/love/'\n",
    "tagss = ['love','inspirational','life', 'humor', 'books' , 'reading', 'friendship', 'friends','truth','smile']\n",
    "i=0\n",
    "Quotesdb=[]\n",
    "while True:\n",
    "    response = requests.get(url)\n",
    "    soup= BeautifulSoup(response.content,'lxml')\n",
    "    data= extractPage(soup)\n",
    "    Quotesdb.extend(data)\n",
    "    try:\n",
    "        url= f'https://quotes.toscrape.com/tag/{tagss[i]}/'\n",
    "        i=i+1\n",
    "        print(f'Extracting from {url}')\n",
    "    except IndexError as e:\n",
    "        print(\"No more Quotes\")\n",
    "        break"
   ]
  },
  {
   "cell_type": "code",
   "execution_count": 20,
   "metadata": {},
   "outputs": [
    {
     "data": {
      "text/plain": [
       "['“Never tell the truth to people who are not worthy of it.”',\n",
       " 'Mark Twain',\n",
       " 'truth']"
      ]
     },
     "execution_count": 20,
     "metadata": {},
     "output_type": "execute_result"
    }
   ],
   "source": [
    "Quotesdb[-1]"
   ]
  },
  {
   "cell_type": "code",
   "execution_count": 21,
   "metadata": {},
   "outputs": [],
   "source": [
    "import sqlite3 as sq3\n",
    "with sq3.connect('Quotes2.db') as conn:\n",
    "    cursor = conn.cursor()\n",
    "    cursor.execute(\"\"\"CREATE TABLE quotes(quote TEXT, author TEXT, tags TEXT)\"\"\")\n",
    "    cursor.executemany(\"\"\"INSERT INTO quotes VALUES(?,?,?)\"\"\",Quotesdb)\n",
    "    conn.commit()"
   ]
  },
  {
   "cell_type": "code",
   "execution_count": null,
   "metadata": {},
   "outputs": [],
   "source": []
  }
 ],
 "metadata": {
  "interpreter": {
   "hash": "39c4ea075d612c0d7b092223494ac816970066423bf3ae59097d8e6207903a76"
  },
  "kernelspec": {
   "display_name": "Python 3.10.2 64-bit",
   "language": "python",
   "name": "python3"
  },
  "language_info": {
   "codemirror_mode": {
    "name": "ipython",
    "version": 3
   },
   "file_extension": ".py",
   "mimetype": "text/x-python",
   "name": "python",
   "nbconvert_exporter": "python",
   "pygments_lexer": "ipython3",
   "version": "3.10.2"
  },
  "orig_nbformat": 4
 },
 "nbformat": 4,
 "nbformat_minor": 2
}

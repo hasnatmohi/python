{
 "cells": [
  {
   "cell_type": "code",
   "execution_count": null,
   "metadata": {},
   "outputs": [],
   "source": [
    "# Online Banking System\n",
    "# Name, Email, phone, addr\n",
    "# Accounts: Creation, Update, Closing, Pin Change\n",
    "# Transaction Operation: Deposit, Withdraw, Transfer\n"
   ]
  },
  {
   "cell_type": "code",
   "execution_count": 68,
   "metadata": {},
   "outputs": [],
   "source": [
    "bankDataBase = dict()\n",
    "init_account_no = 10000\n"
   ]
  },
  {
   "cell_type": "code",
   "execution_count": 69,
   "metadata": {},
   "outputs": [],
   "source": [
    "class Account:\n",
    "    global bankDataBase\n",
    "    bank = 'FBI'\n",
    "    DataBase = bankDataBase\n",
    "\n",
    "    def __init__(self, name: str, email: str, phone: str, addr: str):\n",
    "        self.name = name\n",
    "        self.email = email\n",
    "        self.phone = phone\n",
    "        self.addr = addr\n",
    "        self.pin = phone[-4:]\n",
    "        self.balance = 0.0\n",
    "        self.active = True\n",
    "\n",
    "    def validate(self):\n",
    "        nameValidation = True if (self.name.replace(\n",
    "            ' ', '').isalpha() and (len(self.name) < 25)) else False\n",
    "        emailValidation = True if self.email.endswith(\"@gmail.com\") else False\n",
    "        phoneValidation = True if (\n",
    "            self.phone.isdigit() and len(self.phone) == 11) else False\n",
    "        return all([nameValidation, emailValidation, phoneValidation])\n",
    "\n",
    "    def create_account(self):\n",
    "        global init_account_no\n",
    "        if self.validate():\n",
    "            self.acc_no = init_account_no\n",
    "            __class__.DataBase[init_account_no] = self\n",
    "            init_account_no += 1\n",
    "        else:\n",
    "            return self.validate()\n",
    "\n",
    "    def close(self, pin: str):\n",
    "        if self.pin == pin:\n",
    "            self.active = False\n",
    "            __class__.DataBase[self.acc_no] = self\n",
    "        else:\n",
    "            return \"No Account Found or Invalid Pin!\"\n",
    "\n",
    "    # Transaction\n",
    "    def deposit(self, amount: float):\n",
    "        if self.active:\n",
    "            self.balance += amount\n",
    "            __class__.DataBase[self.acc_no] = self\n",
    "            return True\n",
    "\n",
    "    def withraw(self, amount: float, pin: str):\n",
    "        if self.active and self.pin == pin and self.balance > amount:\n",
    "            self.balance -= amount\n",
    "            __class__.DataBase[self.acc_no] = self\n",
    "            return True\n",
    "        else:\n",
    "            return False\n",
    "\n",
    "    def transfer(self, amount: float, pin: str, to_acc: int):\n",
    "        if to_acc in __class__.DataBase.keys() and __class__.DataBase[to_acc].active:\n",
    "            if self.withraw(amount, pin):\n",
    "                __class__.DataBase[to_acc].deposit(amount)\n",
    "                return True\n",
    "            else:\n",
    "                return False\n",
    "        else:\n",
    "            return \"Account Not Found or Not Active!\"\n",
    "\n",
    "    def __repr__(self):\n",
    "        return f\"Acoount(acc_no={self.acc_no}, name='{self.name}')\"\n"
   ]
  },
  {
   "cell_type": "code",
   "execution_count": 70,
   "metadata": {},
   "outputs": [],
   "source": [
    "acc1 = Account(\"Alexa Scott\", 'alexa@gmail.com', '98768798765', 'Dhaka')\n",
    "acc1.create_account()"
   ]
  },
  {
   "cell_type": "code",
   "execution_count": 71,
   "metadata": {},
   "outputs": [
    {
     "data": {
      "text/plain": [
       "0.0"
      ]
     },
     "execution_count": 71,
     "metadata": {},
     "output_type": "execute_result"
    }
   ],
   "source": [
    "bankDataBase[10000].balance"
   ]
  },
  {
   "cell_type": "code",
   "execution_count": 42,
   "metadata": {},
   "outputs": [],
   "source": [
    "acc1.close('8765')"
   ]
  },
  {
   "cell_type": "code",
   "execution_count": 72,
   "metadata": {},
   "outputs": [
    {
     "data": {
      "text/plain": [
       "True"
      ]
     },
     "execution_count": 72,
     "metadata": {},
     "output_type": "execute_result"
    }
   ],
   "source": [
    "acc1.deposit(10000.0)"
   ]
  },
  {
   "cell_type": "code",
   "execution_count": 64,
   "metadata": {},
   "outputs": [
    {
     "data": {
      "text/plain": [
       "True"
      ]
     },
     "execution_count": 64,
     "metadata": {},
     "output_type": "execute_result"
    }
   ],
   "source": [
    "acc1.withraw(9000.0, '8765')"
   ]
  },
  {
   "cell_type": "code",
   "execution_count": 73,
   "metadata": {},
   "outputs": [],
   "source": [
    "acc2 = Account(\"Tessa Scott\", 'tessa@gmail.com', '98768798769', 'Dhaka')\n",
    "acc2.create_account()"
   ]
  },
  {
   "cell_type": "code",
   "execution_count": 77,
   "metadata": {},
   "outputs": [
    {
     "data": {
      "text/plain": [
       "True"
      ]
     },
     "execution_count": 77,
     "metadata": {},
     "output_type": "execute_result"
    }
   ],
   "source": [
    "acc1.transfer(3000, '8765', 10001)"
   ]
  },
  {
   "cell_type": "code",
   "execution_count": 78,
   "metadata": {},
   "outputs": [
    {
     "data": {
      "text/plain": [
       "3000.0"
      ]
     },
     "execution_count": 78,
     "metadata": {},
     "output_type": "execute_result"
    }
   ],
   "source": [
    "bankDataBase[acc2.acc_no].balance"
   ]
  },
  {
   "cell_type": "code",
   "execution_count": null,
   "metadata": {},
   "outputs": [],
   "source": [
    "while True:\n",
    "    "
   ]
  }
 ],
 "metadata": {
  "interpreter": {
   "hash": "2be5faf79681da6f2a61fdfdd5405d65d042280f7fba6178067603e3a2925119"
  },
  "kernelspec": {
   "display_name": "Python 3.10.2 64-bit",
   "language": "python",
   "name": "python3"
  },
  "language_info": {
   "codemirror_mode": {
    "name": "ipython",
    "version": 3
   },
   "file_extension": ".py",
   "mimetype": "text/x-python",
   "name": "python",
   "nbconvert_exporter": "python",
   "pygments_lexer": "ipython3",
   "version": "3.10.2"
  },
  "orig_nbformat": 4
 },
 "nbformat": 4,
 "nbformat_minor": 2
}

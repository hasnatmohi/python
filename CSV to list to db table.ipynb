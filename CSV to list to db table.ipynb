{
 "cells": [
  {
   "cell_type": "code",
   "execution_count": 49,
   "metadata": {},
   "outputs": [
    {
     "name": "stdout",
     "output_type": "stream",
     "text": [
      "('id', 'first_name', 'last_name', 'date_of_birth', 'ethnicity', 'gender', 'status', 'hs_gpa', 'hs_city', 'hs_state', 'hs_zip', 'email', 'entry_age', 'ged', 'english_2nd_language')\n",
      "('111111', 'John', 'Doe', 'Jan-00', 'Hispanic', 'M', 'FT', '2.71', 'Albuquerque', 'New Mexico', '87112', 'jdoe@example.com', '17.9', 'FALSE', 'FALSE')\n",
      "('111112', 'Jane', 'Smith', 'May-01', 'Hispanic', 'F', 'TRANSFER', '3.73', 'New York', 'New York', '10009', 'jsmith@example.com', '18.1', 'FALSE', 'FALSE')\n",
      "('111113', 'Sarah', 'Thomas', '21/2002', 'Hispanic', 'M', 'FTFT', '2.64', 'Pheonix', 'Arizona', '85006', 'sthomas@example.com', '17.6', 'FALSE', 'FALSE')\n",
      "('111114', 'Frank', 'Brown', '13/2002', 'Race/ethnicity unknown', 'M', 'FTFT', '3.68', 'Pheonix', 'Arizona', '85015', 'fbrown@example.com', '19', 'TRUE', 'FALSE')\n",
      "('111115', 'Mike', 'Davis', '31/2001', 'White', 'F', 'FTFT', '3.46', 'Seattle', 'Washington', '98106', 'mdavis@example.com', '18.2', 'FALSE', 'TRUE')\n",
      "('111116', 'Jennifer', 'Wilson', 'Jan-02', 'Asian', 'M', 'TRANSFER', '4.24', 'Denver', 'Colorado', '80012', 'jwilson@example.com', '18.5', 'TRUE', 'FALSE')\n",
      "('111117', 'Jessica', 'Garcia', 'Jan-00', 'White', 'F', 'FTFT', '', 'Austin', 'Texas', '78703', 'jgarcia@example.com', '18.8', 'FALSE', 'FALSE')\n",
      "('111118', 'Fred', 'Clark', '17/1999', 'Hispanic', 'F', 'FTGRAD', '2.54', 'Denver', 'Colorado', '80033', 'fclark@example.com', '19.2', 'FALSE', 'TRUE')\n",
      "('111119', 'Bob', 'Lopez', 'Apr-98', 'White', 'F', 'FTFT', '3.24', 'Denver', 'Colorado', '80122', 'blopez@example.com', '18.5', 'FALSE', 'FALSE')\n"
     ]
    }
   ],
   "source": [
    "import csv\n",
    "students=[]\n",
    "with open(\"students.csv\",'r') as csv_file:\n",
    "    csv_reader= csv.reader(csv_file)\n",
    "    \n",
    "    \n",
    "    for line in csv_reader:\n",
    "        print(tuple(line))\n",
    "        students.append(tuple(line))\n",
    "        \n",
    "students=students[1:9]"
   ]
  },
  {
   "cell_type": "code",
   "execution_count": 41,
   "metadata": {},
   "outputs": [],
   "source": [
    "import sqlite3 as sq3\n",
    "conn= sq3.connect('student3.db')\n",
    "cursor = conn.cursor()\n",
    "\n",
    "cursor.execute(\"\"\"CREATE TABLE students(id INT ,first_name TEXT PRIMARY KEY, last_name TEXT, date_of_birth TEXT, ethnicity TEXT, gender TEXT, stats TEXT , hs_gpa FLOAT, hs_city TEXT, hs_state TEXT, hs_zip INT, email TEXT, entry_age FLOAT , ged BOOLEAN , english_2nd_language BOOLEAN)\"\"\")\n",
    "conn.close()"
   ]
  },
  {
   "cell_type": "code",
   "execution_count": 50,
   "metadata": {},
   "outputs": [],
   "source": [
    "with sq3.connect('student3.db') as conn:\n",
    "    cursor= conn.cursor()\n",
    "    cursor.executemany(\n",
    "        \"\"\"INSERT INTO students VALUES(?,?,?,?,?,?,?,?,?,?,?,?,?,?,?) \"\"\",students\n",
    "        )"
   ]
  },
  {
   "cell_type": "code",
   "execution_count": 51,
   "metadata": {},
   "outputs": [
    {
     "name": "stdout",
     "output_type": "stream",
     "text": [
      "[(111111, 'John', 'Doe', 'Jan-00', 'Hispanic', 'M', 'FT', 2.71, 'Albuquerque', 'New Mexico', 87112, 'jdoe@example.com', 17.9, 'FALSE', 'FALSE'), (111112, 'Jane', 'Smith', 'May-01', 'Hispanic', 'F', 'TRANSFER', 3.73, 'New York', 'New York', 10009, 'jsmith@example.com', 18.1, 'FALSE', 'FALSE'), (111113, 'Sarah', 'Thomas', '21/2002', 'Hispanic', 'M', 'FTFT', 2.64, 'Pheonix', 'Arizona', 85006, 'sthomas@example.com', 17.6, 'FALSE', 'FALSE'), (111114, 'Frank', 'Brown', '13/2002', 'Race/ethnicity unknown', 'M', 'FTFT', 3.68, 'Pheonix', 'Arizona', 85015, 'fbrown@example.com', 19.0, 'TRUE', 'FALSE'), (111115, 'Mike', 'Davis', '31/2001', 'White', 'F', 'FTFT', 3.46, 'Seattle', 'Washington', 98106, 'mdavis@example.com', 18.2, 'FALSE', 'TRUE'), (111116, 'Jennifer', 'Wilson', 'Jan-02', 'Asian', 'M', 'TRANSFER', 4.24, 'Denver', 'Colorado', 80012, 'jwilson@example.com', 18.5, 'TRUE', 'FALSE'), (111117, 'Jessica', 'Garcia', 'Jan-00', 'White', 'F', 'FTFT', '', 'Austin', 'Texas', 78703, 'jgarcia@example.com', 18.8, 'FALSE', 'FALSE'), (111118, 'Fred', 'Clark', '17/1999', 'Hispanic', 'F', 'FTGRAD', 2.54, 'Denver', 'Colorado', 80033, 'fclark@example.com', 19.2, 'FALSE', 'TRUE')]\n"
     ]
    }
   ],
   "source": [
    "with sq3.connect('student3.db') as conn:\n",
    "    cursor= conn.cursor()\n",
    "    result=cursor.execute(\n",
    "        \"\"\"SELECT * FROM students  \"\"\"\n",
    "    )\n",
    "    print(list(result))"
   ]
  },
  {
   "cell_type": "code",
   "execution_count": null,
   "metadata": {},
   "outputs": [],
   "source": []
  }
 ],
 "metadata": {
  "interpreter": {
   "hash": "b89b5cfaba6639976dc87ff2fec6d58faec662063367e2c229c520fe71072417"
  },
  "kernelspec": {
   "display_name": "Python 3.10.2 64-bit",
   "language": "python",
   "name": "python3"
  },
  "language_info": {
   "codemirror_mode": {
    "name": "ipython",
    "version": 3
   },
   "file_extension": ".py",
   "mimetype": "text/x-python",
   "name": "python",
   "nbconvert_exporter": "python",
   "pygments_lexer": "ipython3",
   "version": "3.10.2"
  },
  "orig_nbformat": 4
 },
 "nbformat": 4,
 "nbformat_minor": 2
}
